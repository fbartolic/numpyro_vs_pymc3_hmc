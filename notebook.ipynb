{
 "cells": [
  {
   "cell_type": "code",
   "execution_count": 1,
   "metadata": {},
   "outputs": [],
   "source": [
    "import numpy as np\n",
    "\n",
    "import jax\n",
    "import jax.numpy as jnp\n",
    "from jax import random\n",
    "import numpyro\n",
    "import numpyro.distributions as dist\n",
    "from numpyro.infer import *\n",
    "\n",
    "import pymc3 as pm\n",
    "import theano\n",
    "import theano.tensor as tt\n",
    "\n",
    "import arviz as az\n",
    "\n",
    "numpyro.enable_x64(True)\n",
    "numpyro.set_host_device_count(4)"
   ]
  },
  {
   "cell_type": "code",
   "execution_count": 2,
   "metadata": {},
   "outputs": [
    {
     "name": "stdout",
     "output_type": "stream",
     "text": [
      "numpyro version:  0.6.0\n",
      "jax version:  0.2.10\n",
      "pymc3 version:  3.9.0\n",
      "theano version:  1.0.5\n"
     ]
    }
   ],
   "source": [
    "print(\"numpyro version: \", numpyro.__version__)\n",
    "print(\"jax version: \", jax.__version__)\n",
    "print(\"pymc3 version: \", pm.__version__)\n",
    "print(\"theano version: \", theano.__version__)"
   ]
  },
  {
   "cell_type": "code",
   "execution_count": 3,
   "metadata": {},
   "outputs": [],
   "source": [
    "A = np.load(\"A.npy\")\n",
    "P2Y = np.load(\"P2Y.npy\")\n",
    "fo = np.load(\"f.npy\")\n",
    "ferr = np.load(\"ferr.npy\")\n",
    "\n",
    "n = P2Y.shape[1]"
   ]
  },
  {
   "cell_type": "code",
   "execution_count": 4,
   "metadata": {},
   "outputs": [
    {
     "name": "stderr",
     "output_type": "stream",
     "text": [
      "/Users/fb90/anaconda3/envs/io/lib/python3.8/site-packages/theano/gof/cc.py:968: UserWarning: Your g++ compiler fails to compile OpenMP code. We know this happen with some version of the EPD mingw compiler and LLVM compiler on Mac OS X. We disable openmp everywhere in Theano. To remove this warning set the theano flags `openmp` to False.\n",
      "  ret += x.c_compile_args()\n"
     ]
    }
   ],
   "source": [
    "# PyMC3 model\n",
    "with pm.Model() as model_pm:\n",
    "    PositiveNormal = pm.Bound(pm.Normal, lower=0.0)\n",
    "    fs = PositiveNormal(\"fs\", mu=0.0, sigma=1.0)\n",
    "    p_scale = PositiveNormal(\"p_scale\", mu=0.0, sigma=1e-04)\n",
    "    p = pm.Exponential(\"p\", 1 / p_scale, shape=(n,))\n",
    "\n",
    "    x = tt.dot(P2Y, p)\n",
    "    pm.Deterministic(\"x\", x)\n",
    "\n",
    "    f = tt.dot(A, x[:, None]).flatten() + fs\n",
    "\n",
    "    pm.Normal(\"obs\", mu=f, sigma=ferr, observed=fo)"
   ]
  },
  {
   "cell_type": "code",
   "execution_count": 5,
   "metadata": {},
   "outputs": [
    {
     "name": "stderr",
     "output_type": "stream",
     "text": [
      "Auto-assigning NUTS sampler...\n",
      "Initializing NUTS using adapt_diag...\n",
      "Multiprocess sampling (2 chains in 2 jobs)\n",
      "NUTS: [p, p_scale, fs]\n"
     ]
    },
    {
     "data": {
      "text/html": [
       "\n",
       "    <div>\n",
       "        <style>\n",
       "            /* Turns off some styling */\n",
       "            progress {\n",
       "                /* gets rid of default border in Firefox and Opera. */\n",
       "                border: none;\n",
       "                /* Needs to be in here for Safari polyfill so background images work as expected. */\n",
       "                background-size: auto;\n",
       "            }\n",
       "            .progress-bar-interrupted, .progress-bar-interrupted::-webkit-progress-bar {\n",
       "                background: #F44336;\n",
       "            }\n",
       "        </style>\n",
       "      <progress value='3000' class='' max='3000' style='width:300px; height:20px; vertical-align: middle;'></progress>\n",
       "      100.00% [3000/3000 04:09<00:00 Sampling 2 chains, 0 divergences]\n",
       "    </div>\n",
       "    "
      ],
      "text/plain": [
       "<IPython.core.display.HTML object>"
      ]
     },
     "metadata": {},
     "output_type": "display_data"
    },
    {
     "name": "stderr",
     "output_type": "stream",
     "text": [
      "Sampling 2 chains for 1_000 tune and 500 draw iterations (2_000 + 1_000 draws total) took 257 seconds.\n"
     ]
    }
   ],
   "source": [
    "init_vals = {\"p\": 1e-06 * np.random.rand(n), \"fs\": 0.99999, \"p_scale\": 2e-05}\n",
    "\n",
    "nwarmup = 1000\n",
    "nsamples = 500\n",
    "nchains = 2\n",
    "\n",
    "with model_pm:\n",
    "    samples_pm = pm.sample(\n",
    "        tune=nwarmup,\n",
    "        draws=nsamples,\n",
    "        cores=nchains,\n",
    "        chains=nchains,\n",
    "        target_accept=0.95,\n",
    "        start=init_vals,\n",
    "        init=\"adapt_diag\",\n",
    "    )\n",
    "    samples_pm_az = az.from_pymc3(samples_pm)"
   ]
  },
  {
   "cell_type": "code",
   "execution_count": 6,
   "metadata": {},
   "outputs": [
    {
     "data": {
      "application/vnd.jupyter.widget-view+json": {
       "model_id": "a4413a42864e41338c44b19c63606fa3",
       "version_major": 2,
       "version_minor": 0
      },
      "text/plain": [
       "  0%|          | 0/1500 [00:00<?, ?it/s]"
      ]
     },
     "metadata": {},
     "output_type": "display_data"
    },
    {
     "data": {
      "application/vnd.jupyter.widget-view+json": {
       "model_id": "bddd07d342214479bde1588a7b3cd8f9",
       "version_major": 2,
       "version_minor": 0
      },
      "text/plain": [
       "  0%|          | 0/1500 [00:00<?, ?it/s]"
      ]
     },
     "metadata": {},
     "output_type": "display_data"
    }
   ],
   "source": [
    "# Numpyro model\n",
    "def model_num():\n",
    "    fs = numpyro.sample(\"fs\", dist.HalfNormal(scale=1.0))\n",
    "    p_scale = numpyro.sample(\"p_scale\", dist.HalfNormal(scale=1e-04))\n",
    "    p = numpyro.sample(\"p\", dist.Exponential(1 / p_scale).expand([n]))\n",
    "\n",
    "    x = jnp.dot(P2Y, p)\n",
    "    numpyro.deterministic(\"x\", x)\n",
    "\n",
    "    f = jnp.dot(A, x[:, None]).flatten() + fs\n",
    "\n",
    "    numpyro.sample(\"obs\", dist.Normal(f, ferr), obs=fo)\n",
    "\n",
    "\n",
    "init_vals = {\n",
    "    \"p\": samples_pm[\"p\"][-1],\n",
    "    \"fs\": samples_pm[\"fs\"][-1],\n",
    "    \"p_scale\": samples_pm[\"p_scale\"][-1],\n",
    "}\n",
    "nuts_kernel = NUTS(\n",
    "    model_num,\n",
    "    dense_mass=False,\n",
    "    init_strategy=init_to_value(values=init_vals),\n",
    "    target_accept_prob=0.95,\n",
    ")\n",
    "mcmc = MCMC(nuts_kernel, num_warmup=nwarmup, num_samples=nsamples, num_chains=nchains)\n",
    "rng_key = random.PRNGKey(0)\n",
    "mcmc.run(rng_key)\n",
    "samples_num_az = az.from_numpyro(mcmc)"
   ]
  },
  {
   "cell_type": "code",
   "execution_count": 7,
   "metadata": {},
   "outputs": [
    {
     "data": {
      "text/html": [
       "<div>\n",
       "<style scoped>\n",
       "    .dataframe tbody tr th:only-of-type {\n",
       "        vertical-align: middle;\n",
       "    }\n",
       "\n",
       "    .dataframe tbody tr th {\n",
       "        vertical-align: top;\n",
       "    }\n",
       "\n",
       "    .dataframe thead th {\n",
       "        text-align: right;\n",
       "    }\n",
       "</style>\n",
       "<table border=\"1\" class=\"dataframe\">\n",
       "  <thead>\n",
       "    <tr style=\"text-align: right;\">\n",
       "      <th></th>\n",
       "      <th>mean</th>\n",
       "      <th>sd</th>\n",
       "      <th>hdi_3%</th>\n",
       "      <th>hdi_97%</th>\n",
       "      <th>mcse_mean</th>\n",
       "      <th>mcse_sd</th>\n",
       "      <th>ess_mean</th>\n",
       "      <th>ess_sd</th>\n",
       "      <th>ess_bulk</th>\n",
       "      <th>ess_tail</th>\n",
       "      <th>r_hat</th>\n",
       "    </tr>\n",
       "  </thead>\n",
       "  <tbody>\n",
       "    <tr>\n",
       "      <th>p_scale</th>\n",
       "      <td>0.0</td>\n",
       "      <td>0.0</td>\n",
       "      <td>0.0</td>\n",
       "      <td>0.0</td>\n",
       "      <td>0.0</td>\n",
       "      <td>0.0</td>\n",
       "      <td>1179.0</td>\n",
       "      <td>1153.0</td>\n",
       "      <td>1196.0</td>\n",
       "      <td>880.0</td>\n",
       "      <td>1.0</td>\n",
       "    </tr>\n",
       "  </tbody>\n",
       "</table>\n",
       "</div>"
      ],
      "text/plain": [
       "         mean   sd  hdi_3%  hdi_97%  mcse_mean  mcse_sd  ess_mean  ess_sd  \\\n",
       "p_scale   0.0  0.0     0.0      0.0        0.0      0.0    1179.0  1153.0   \n",
       "\n",
       "         ess_bulk  ess_tail  r_hat  \n",
       "p_scale    1196.0     880.0    1.0  "
      ]
     },
     "execution_count": 7,
     "metadata": {},
     "output_type": "execute_result"
    }
   ],
   "source": [
    "az.summary(samples_pm_az, var_names=[\"p_scale\"])"
   ]
  },
  {
   "cell_type": "code",
   "execution_count": 8,
   "metadata": {},
   "outputs": [
    {
     "data": {
      "text/html": [
       "<div>\n",
       "<style scoped>\n",
       "    .dataframe tbody tr th:only-of-type {\n",
       "        vertical-align: middle;\n",
       "    }\n",
       "\n",
       "    .dataframe tbody tr th {\n",
       "        vertical-align: top;\n",
       "    }\n",
       "\n",
       "    .dataframe thead th {\n",
       "        text-align: right;\n",
       "    }\n",
       "</style>\n",
       "<table border=\"1\" class=\"dataframe\">\n",
       "  <thead>\n",
       "    <tr style=\"text-align: right;\">\n",
       "      <th></th>\n",
       "      <th>mean</th>\n",
       "      <th>sd</th>\n",
       "      <th>hdi_3%</th>\n",
       "      <th>hdi_97%</th>\n",
       "      <th>mcse_mean</th>\n",
       "      <th>mcse_sd</th>\n",
       "      <th>ess_mean</th>\n",
       "      <th>ess_sd</th>\n",
       "      <th>ess_bulk</th>\n",
       "      <th>ess_tail</th>\n",
       "      <th>r_hat</th>\n",
       "    </tr>\n",
       "  </thead>\n",
       "  <tbody>\n",
       "    <tr>\n",
       "      <th>p_scale</th>\n",
       "      <td>0.0</td>\n",
       "      <td>0.0</td>\n",
       "      <td>0.0</td>\n",
       "      <td>0.0</td>\n",
       "      <td>0.0</td>\n",
       "      <td>0.0</td>\n",
       "      <td>3.0</td>\n",
       "      <td>3.0</td>\n",
       "      <td>3.0</td>\n",
       "      <td>28.0</td>\n",
       "      <td>1.77</td>\n",
       "    </tr>\n",
       "  </tbody>\n",
       "</table>\n",
       "</div>"
      ],
      "text/plain": [
       "         mean   sd  hdi_3%  hdi_97%  mcse_mean  mcse_sd  ess_mean  ess_sd  \\\n",
       "p_scale   0.0  0.0     0.0      0.0        0.0      0.0       3.0     3.0   \n",
       "\n",
       "         ess_bulk  ess_tail  r_hat  \n",
       "p_scale       3.0      28.0   1.77  "
      ]
     },
     "execution_count": 8,
     "metadata": {},
     "output_type": "execute_result"
    }
   ],
   "source": [
    "az.summary(samples_num_az, var_names=[\"p_scale\"])"
   ]
  }
 ],
 "metadata": {
  "kernelspec": {
   "display_name": "Python [conda env:io]",
   "language": "python",
   "name": "conda-env-io-py"
  },
  "language_info": {
   "codemirror_mode": {
    "name": "ipython",
    "version": 3
   },
   "file_extension": ".py",
   "mimetype": "text/x-python",
   "name": "python",
   "nbconvert_exporter": "python",
   "pygments_lexer": "ipython3",
   "version": "3.8.2"
  }
 },
 "nbformat": 4,
 "nbformat_minor": 4
}
